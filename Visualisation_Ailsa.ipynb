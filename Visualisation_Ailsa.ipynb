{
 "cells": [
  {
   "cell_type": "markdown",
   "id": "7a03dbeb-b79a-41ee-8ca8-127c02e171dc",
   "metadata": {},
   "source": [
    "# Extract the data from file "
   ]
  },
  {
   "cell_type": "code",
   "execution_count": 2,
   "id": "13916e7a-ad9a-4724-a290-616ad4f06286",
   "metadata": {},
   "outputs": [],
   "source": [
    "# Extract data \n",
    "\n",
    "import pandas as pd\n",
    "import plotly.graph_objects as go\n",
    "import plotly.io as pio\n",
    "import re\n",
    "\n",
    "# Load the CSV file\n",
    "file_path = \"/Users/ailsamoody/Desktop/HPSEC/060125/HPLC_data_visual.csv\"\n",
    "df = pd.read_csv(file_path) "
   ]
  },
  {
   "cell_type": "code",
   "execution_count": 6,
   "id": "494bb6a7-5b46-4d5b-b42b-c63a27580db1",
   "metadata": {},
   "outputs": [
    {
     "name": "stdout",
     "output_type": "stream",
     "text": [
      "     Unnamed: 0  Area %                       filename  Elution Time  \\\n",
      "0             0  100.00        53-IEP2-31-33_S_280.CSV      9.368533   \n",
      "1             1  100.00        52-IEP2-27-28_S_280.CSV     12.972700   \n",
      "2             2  100.00           42-NF-R-21_S_280.CSV     15.612700   \n",
      "3             3  100.00  35-BOOSTER-FD-22-23_S_280.CSV     10.856033   \n",
      "4             4  100.00        25-PPC-QA-3-4_S_280.CSV     16.447700   \n",
      "..          ...     ...                            ...           ...   \n",
      "110         110  100.00  33-BOOSTER-FD-16-17_S_280.CSV     13.646033   \n",
      "111         111  100.00     38-BOOSTER-FD-33_S_280.CSV     10.107083   \n",
      "112         112    7.37        41-NF-R-17-18_S_214.CSV     13.405417   \n",
      "113         113   92.63        41-NF-R-17-18_S_214.CSV     15.597083   \n",
      "114         114  100.00           48-IEP2-16_S_214.CSV     15.953333   \n",
      "\n",
      "          Integral  peak nr         kDa  Fraction  \n",
      "0      6958.411718        1  276.069876       NaN  \n",
      "1     31441.631470        1   28.401014       NaN  \n",
      "2     27975.980930        1    5.368695       NaN  \n",
      "3     13588.688550        1  107.990311       NaN  \n",
      "4      9822.871171        1    3.169899       NaN  \n",
      "..             ...      ...         ...       ...  \n",
      "110   13211.052950        1   18.570077       NaN  \n",
      "111   12244.109720        1  173.231518       NaN  \n",
      "112   18321.124800        1   21.614851       NaN  \n",
      "113  230334.886500        2    5.421860       NaN  \n",
      "114   41921.638700        1    4.330336       NaN  \n",
      "\n",
      "[101 rows x 8 columns]\n"
     ]
    }
   ],
   "source": [
    "# Filter out standard files (which don't follow fraction_number-sample_name format)\n",
    "df_filtered = df[df['filename'].str.contains(r\"^\\d+-[A-Za-z0-9]+\", regex=True)].copy()\n",
    "\n",
    "print(df_filtered)"
   ]
  },
  {
   "cell_type": "code",
   "execution_count": 8,
   "id": "c9f6512c-98f9-47ec-92f1-3502a13e36f8",
   "metadata": {},
   "outputs": [
    {
     "data": {
      "text/plain": [
       "array(['53-IEP2-31-33_S_280.CSV', '52-IEP2-27-28_S_280.CSV',\n",
       "       '42-NF-R-21_S_280.CSV', '35-BOOSTER-FD-22-23_S_280.CSV',\n",
       "       '25-PPC-QA-3-4_S_280.CSV', '44-NF-R-24_S_214.CSV',\n",
       "       '50-IEP2-20-21_S_280.CSV', '31-PPC-QA-31-32_S_214.CSV',\n",
       "       '30-PPC-QA-30_S_214.CSV', '36-BOOSTER-FD-30_S_214.CSV',\n",
       "       '37-BOOSTER-FD-32_S_214.CSV', '45-NF-R-32_S_280.CSV',\n",
       "       '51-IEP2-22-24_S_280.CSV', '32-PPC-QA-35-36_S_214.CSV',\n",
       "       '43-NF-R-22-23_S_214.CSV', '40-NF-R-16_S_214.CSV',\n",
       "       '34-BOOSTER-FD-19-20_S_214.CSV', '26-PPC-QA-15-16_S_214.CSV',\n",
       "       '28-PPC-QA-21-22_S_280.CSV', '27-PPC-QA-18-19_S_280.CSV',\n",
       "       '41-NF-R-17-18_S_280.CSV', '38-BOOSTER-FD-33_S_214.CSV',\n",
       "       '33-BOOSTER-FD-16-17_S_214.CSV', '29-PPC-QA-23-24_S_214.CSV',\n",
       "       '39-NF-R-15_S_280.CSV', '35-BOOSTER-FD-22-23_S_214.CSV',\n",
       "       '25-PPC-QA-3-4_S_214.CSV', '42-NF-R-21_S_214.CSV',\n",
       "       '52-IEP2-27-28_S_214.CSV', '53-IEP2-31-33_S_214.CSV',\n",
       "       '49-IEP2-17-18_S_214.CSV', '30-PPC-QA-30_S_280.CSV',\n",
       "       '36-BOOSTER-FD-30_S_280.CSV', '31-PPC-QA-31-32_S_280.CSV',\n",
       "       '50-IEP2-20-21_S_214.CSV', '46-NF-R-33_S_214.CSV',\n",
       "       '44-NF-R-24_S_280.CSV', '37-BOOSTER-FD-32_S_280.CSV',\n",
       "       '45-NF-R-32_S_214.CSV', '26-PPC-QA-15-16_S_280.CSV',\n",
       "       '34-BOOSTER-FD-19-20_S_280.CSV', '40-NF-R-16_S_280.CSV',\n",
       "       '32-PPC-QA-35-36_S_280.CSV', '43-NF-R-22-23_S_280.CSV',\n",
       "       '51-IEP2-22-24_S_214.CSV', '27-PPC-QA-18-19_S_214.CSV',\n",
       "       '28-PPC-QA-21-22_S_214.CSV', '39-NF-R-15_S_214.CSV',\n",
       "       '47-IEP2-14_S_214.CSV', '29-PPC-QA-23-24_S_280.CSV',\n",
       "       '33-BOOSTER-FD-16-17_S_280.CSV', '38-BOOSTER-FD-33_S_280.CSV',\n",
       "       '41-NF-R-17-18_S_214.CSV', '48-IEP2-16_S_214.CSV'], dtype=object)"
      ]
     },
     "execution_count": 8,
     "metadata": {},
     "output_type": "execute_result"
    }
   ],
   "source": [
    "df_filtered['filename'].unique()"
   ]
  },
  {
   "cell_type": "markdown",
   "id": "ae3f4d21-d578-4c43-b1f0-b7bd79fa00aa",
   "metadata": {},
   "source": [
    "# Clear name so there is no spaces "
   ]
  },
  {
   "cell_type": "code",
   "execution_count": 11,
   "id": "afe5e3b5-01ab-4a2c-970d-02085b3b95db",
   "metadata": {},
   "outputs": [
    {
     "data": {
      "text/plain": [
       "array(['53-IEP2-31-33_S_280.CSV', '52-IEP2-27-28_S_280.CSV',\n",
       "       '42-NFR-21_S_280.CSV', '35-BOOSTERFD-22-23_S_280.CSV',\n",
       "       '25-PPCQA-3-4_S_280.CSV', '44-NFR-24_S_214.CSV',\n",
       "       '50-IEP2-20-21_S_280.CSV', '31-PPCQA-31-32_S_214.CSV',\n",
       "       '30-PPCQA-30_S_214.CSV', '36-BOOSTERFD-30_S_214.CSV',\n",
       "       '37-BOOSTERFD-32_S_214.CSV', '45-NFR-32_S_280.CSV',\n",
       "       '51-IEP2-22-24_S_280.CSV', '32-PPCQA-35-36_S_214.CSV',\n",
       "       '43-NFR-22-23_S_214.CSV', '40-NFR-16_S_214.CSV',\n",
       "       '34-BOOSTERFD-19-20_S_214.CSV', '26-PPCQA-15-16_S_214.CSV',\n",
       "       '28-PPCQA-21-22_S_280.CSV', '27-PPCQA-18-19_S_280.CSV',\n",
       "       '41-NFR-17-18_S_280.CSV', '38-BOOSTERFD-33_S_214.CSV',\n",
       "       '33-BOOSTERFD-16-17_S_214.CSV', '29-PPCQA-23-24_S_214.CSV',\n",
       "       '39-NFR-15_S_280.CSV', '35-BOOSTERFD-22-23_S_214.CSV',\n",
       "       '25-PPCQA-3-4_S_214.CSV', '42-NFR-21_S_214.CSV',\n",
       "       '52-IEP2-27-28_S_214.CSV', '53-IEP2-31-33_S_214.CSV',\n",
       "       '49-IEP2-17-18_S_214.CSV', '30-PPCQA-30_S_280.CSV',\n",
       "       '36-BOOSTERFD-30_S_280.CSV', '31-PPCQA-31-32_S_280.CSV',\n",
       "       '50-IEP2-20-21_S_214.CSV', '46-NFR-33_S_214.CSV',\n",
       "       '44-NFR-24_S_280.CSV', '37-BOOSTERFD-32_S_280.CSV',\n",
       "       '45-NFR-32_S_214.CSV', '26-PPCQA-15-16_S_280.CSV',\n",
       "       '34-BOOSTERFD-19-20_S_280.CSV', '40-NFR-16_S_280.CSV',\n",
       "       '32-PPCQA-35-36_S_280.CSV', '43-NFR-22-23_S_280.CSV',\n",
       "       '51-IEP2-22-24_S_214.CSV', '27-PPCQA-18-19_S_214.CSV',\n",
       "       '28-PPCQA-21-22_S_214.CSV', '39-NFR-15_S_214.CSV',\n",
       "       '47-IEP2-14_S_214.CSV', '29-PPCQA-23-24_S_280.CSV',\n",
       "       '33-BOOSTERFD-16-17_S_280.CSV', '38-BOOSTERFD-33_S_280.CSV',\n",
       "       '41-NFR-17-18_S_214.CSV', '48-IEP2-16_S_214.CSV'], dtype=object)"
      ]
     },
     "execution_count": 11,
     "metadata": {},
     "output_type": "execute_result"
    }
   ],
   "source": [
    "df_filtered['processed names'] = (\n",
    "    df_filtered['filename']\n",
    "    .str.replace('NF-R', 'NFR')\n",
    "    .str.replace('BOOSTER-FD', 'BOOSTERFD')\n",
    "    .str.replace('PPC-QA', 'PPCQA')\n",
    ")\n",
    "df_filtered['processed names'].unique()"
   ]
  },
  {
   "cell_type": "markdown",
   "id": "42ab5cbe-4c33-49d6-a748-a0032e4f6d8c",
   "metadata": {},
   "source": [
    "# Extract the information from the fixed filenames"
   ]
  },
  {
   "cell_type": "code",
   "execution_count": 16,
   "id": "b59353d1-1993-4569-a2db-ea9a89c0b28a",
   "metadata": {},
   "outputs": [],
   "source": [
    "def extract_sample_fraction(s):\n",
    "    # Find first and second hyphens\n",
    "    first_hyphen = s.find('-')\n",
    "    second_hyphen = s.find('-', first_hyphen + 1)\n",
    "    \n",
    "    # Extract the sample name\n",
    "    sample_name = s[first_hyphen + 1 : second_hyphen]\n",
    "    \n",
    "    # Extract everything from the second hyphen up to '_S_'\n",
    "    s_s_index = s.find('_S_')\n",
    "    fraction_part = s[second_hyphen + 1 : s_s_index] if s_s_index != -1 else \"\"\n",
    "    \n",
    "    return sample_name, fraction_part\n",
    "\n",
    "df_filtered['sample_name'], df_filtered['fraction_part'] = zip(*df_filtered['processed names'].map(extract_sample_fraction))"
   ]
  },
  {
   "cell_type": "code",
   "execution_count": 18,
   "id": "53ee9f34-c721-45f5-80db-1295b0579407",
   "metadata": {},
   "outputs": [
    {
     "data": {
      "text/html": [
       "<div>\n",
       "<style scoped>\n",
       "    .dataframe tbody tr th:only-of-type {\n",
       "        vertical-align: middle;\n",
       "    }\n",
       "\n",
       "    .dataframe tbody tr th {\n",
       "        vertical-align: top;\n",
       "    }\n",
       "\n",
       "    .dataframe thead th {\n",
       "        text-align: right;\n",
       "    }\n",
       "</style>\n",
       "<table border=\"1\" class=\"dataframe\">\n",
       "  <thead>\n",
       "    <tr style=\"text-align: right;\">\n",
       "      <th></th>\n",
       "      <th>Unnamed: 0</th>\n",
       "      <th>Area %</th>\n",
       "      <th>filename</th>\n",
       "      <th>Elution Time</th>\n",
       "      <th>Integral</th>\n",
       "      <th>peak nr</th>\n",
       "      <th>kDa</th>\n",
       "      <th>Fraction</th>\n",
       "      <th>processed names</th>\n",
       "      <th>sample_name</th>\n",
       "      <th>fraction_part</th>\n",
       "    </tr>\n",
       "  </thead>\n",
       "  <tbody>\n",
       "    <tr>\n",
       "      <th>0</th>\n",
       "      <td>0</td>\n",
       "      <td>100.0</td>\n",
       "      <td>53-IEP2-31-33_S_280.CSV</td>\n",
       "      <td>9.368533</td>\n",
       "      <td>6958.411718</td>\n",
       "      <td>1</td>\n",
       "      <td>276.069876</td>\n",
       "      <td>NaN</td>\n",
       "      <td>53-IEP2-31-33_S_280.CSV</td>\n",
       "      <td>IEP2</td>\n",
       "      <td>31-33</td>\n",
       "    </tr>\n",
       "    <tr>\n",
       "      <th>1</th>\n",
       "      <td>1</td>\n",
       "      <td>100.0</td>\n",
       "      <td>52-IEP2-27-28_S_280.CSV</td>\n",
       "      <td>12.972700</td>\n",
       "      <td>31441.631470</td>\n",
       "      <td>1</td>\n",
       "      <td>28.401014</td>\n",
       "      <td>NaN</td>\n",
       "      <td>52-IEP2-27-28_S_280.CSV</td>\n",
       "      <td>IEP2</td>\n",
       "      <td>27-28</td>\n",
       "    </tr>\n",
       "    <tr>\n",
       "      <th>2</th>\n",
       "      <td>2</td>\n",
       "      <td>100.0</td>\n",
       "      <td>42-NF-R-21_S_280.CSV</td>\n",
       "      <td>15.612700</td>\n",
       "      <td>27975.980930</td>\n",
       "      <td>1</td>\n",
       "      <td>5.368695</td>\n",
       "      <td>NaN</td>\n",
       "      <td>42-NFR-21_S_280.CSV</td>\n",
       "      <td>NFR</td>\n",
       "      <td>21</td>\n",
       "    </tr>\n",
       "    <tr>\n",
       "      <th>3</th>\n",
       "      <td>3</td>\n",
       "      <td>100.0</td>\n",
       "      <td>35-BOOSTER-FD-22-23_S_280.CSV</td>\n",
       "      <td>10.856033</td>\n",
       "      <td>13588.688550</td>\n",
       "      <td>1</td>\n",
       "      <td>107.990311</td>\n",
       "      <td>NaN</td>\n",
       "      <td>35-BOOSTERFD-22-23_S_280.CSV</td>\n",
       "      <td>BOOSTERFD</td>\n",
       "      <td>22-23</td>\n",
       "    </tr>\n",
       "    <tr>\n",
       "      <th>4</th>\n",
       "      <td>4</td>\n",
       "      <td>100.0</td>\n",
       "      <td>25-PPC-QA-3-4_S_280.CSV</td>\n",
       "      <td>16.447700</td>\n",
       "      <td>9822.871171</td>\n",
       "      <td>1</td>\n",
       "      <td>3.169899</td>\n",
       "      <td>NaN</td>\n",
       "      <td>25-PPCQA-3-4_S_280.CSV</td>\n",
       "      <td>PPCQA</td>\n",
       "      <td>3-4</td>\n",
       "    </tr>\n",
       "  </tbody>\n",
       "</table>\n",
       "</div>"
      ],
      "text/plain": [
       "   Unnamed: 0  Area %                       filename  Elution Time  \\\n",
       "0           0   100.0        53-IEP2-31-33_S_280.CSV      9.368533   \n",
       "1           1   100.0        52-IEP2-27-28_S_280.CSV     12.972700   \n",
       "2           2   100.0           42-NF-R-21_S_280.CSV     15.612700   \n",
       "3           3   100.0  35-BOOSTER-FD-22-23_S_280.CSV     10.856033   \n",
       "4           4   100.0        25-PPC-QA-3-4_S_280.CSV     16.447700   \n",
       "\n",
       "       Integral  peak nr         kDa  Fraction               processed names  \\\n",
       "0   6958.411718        1  276.069876       NaN       53-IEP2-31-33_S_280.CSV   \n",
       "1  31441.631470        1   28.401014       NaN       52-IEP2-27-28_S_280.CSV   \n",
       "2  27975.980930        1    5.368695       NaN           42-NFR-21_S_280.CSV   \n",
       "3  13588.688550        1  107.990311       NaN  35-BOOSTERFD-22-23_S_280.CSV   \n",
       "4   9822.871171        1    3.169899       NaN        25-PPCQA-3-4_S_280.CSV   \n",
       "\n",
       "  sample_name fraction_part  \n",
       "0        IEP2         31-33  \n",
       "1        IEP2         27-28  \n",
       "2         NFR            21  \n",
       "3   BOOSTERFD         22-23  \n",
       "4       PPCQA           3-4  "
      ]
     },
     "execution_count": 18,
     "metadata": {},
     "output_type": "execute_result"
    }
   ],
   "source": [
    "df_filtered.head()"
   ]
  },
  {
   "cell_type": "markdown",
   "id": "8f2a9a68-dbfd-4d66-b9b1-bfd570c98af9",
   "metadata": {},
   "source": [
    "# Extract the fraction numbers as fraction low and fraction high for samples with fraction range"
   ]
  },
  {
   "cell_type": "code",
   "execution_count": 21,
   "id": "fdc93993-68de-4a53-852b-be40bf7ba535",
   "metadata": {},
   "outputs": [
    {
     "data": {
      "text/html": [
       "<div>\n",
       "<style scoped>\n",
       "    .dataframe tbody tr th:only-of-type {\n",
       "        vertical-align: middle;\n",
       "    }\n",
       "\n",
       "    .dataframe tbody tr th {\n",
       "        vertical-align: top;\n",
       "    }\n",
       "\n",
       "    .dataframe thead th {\n",
       "        text-align: right;\n",
       "    }\n",
       "</style>\n",
       "<table border=\"1\" class=\"dataframe\">\n",
       "  <thead>\n",
       "    <tr style=\"text-align: right;\">\n",
       "      <th></th>\n",
       "      <th>Unnamed: 0</th>\n",
       "      <th>Area %</th>\n",
       "      <th>filename</th>\n",
       "      <th>Elution Time</th>\n",
       "      <th>Integral</th>\n",
       "      <th>peak nr</th>\n",
       "      <th>kDa</th>\n",
       "      <th>Fraction</th>\n",
       "      <th>processed names</th>\n",
       "      <th>sample_name</th>\n",
       "      <th>fraction_part</th>\n",
       "      <th>fraction_low</th>\n",
       "      <th>fraction_high</th>\n",
       "    </tr>\n",
       "  </thead>\n",
       "  <tbody>\n",
       "    <tr>\n",
       "      <th>0</th>\n",
       "      <td>0</td>\n",
       "      <td>100.0</td>\n",
       "      <td>53-IEP2-31-33_S_280.CSV</td>\n",
       "      <td>9.368533</td>\n",
       "      <td>6958.411718</td>\n",
       "      <td>1</td>\n",
       "      <td>276.069876</td>\n",
       "      <td>NaN</td>\n",
       "      <td>53-IEP2-31-33_S_280.CSV</td>\n",
       "      <td>IEP2</td>\n",
       "      <td>31-33</td>\n",
       "      <td>31</td>\n",
       "      <td>33</td>\n",
       "    </tr>\n",
       "    <tr>\n",
       "      <th>1</th>\n",
       "      <td>1</td>\n",
       "      <td>100.0</td>\n",
       "      <td>52-IEP2-27-28_S_280.CSV</td>\n",
       "      <td>12.972700</td>\n",
       "      <td>31441.631470</td>\n",
       "      <td>1</td>\n",
       "      <td>28.401014</td>\n",
       "      <td>NaN</td>\n",
       "      <td>52-IEP2-27-28_S_280.CSV</td>\n",
       "      <td>IEP2</td>\n",
       "      <td>27-28</td>\n",
       "      <td>27</td>\n",
       "      <td>28</td>\n",
       "    </tr>\n",
       "    <tr>\n",
       "      <th>2</th>\n",
       "      <td>2</td>\n",
       "      <td>100.0</td>\n",
       "      <td>42-NF-R-21_S_280.CSV</td>\n",
       "      <td>15.612700</td>\n",
       "      <td>27975.980930</td>\n",
       "      <td>1</td>\n",
       "      <td>5.368695</td>\n",
       "      <td>NaN</td>\n",
       "      <td>42-NFR-21_S_280.CSV</td>\n",
       "      <td>NFR</td>\n",
       "      <td>21</td>\n",
       "      <td>21</td>\n",
       "      <td>21</td>\n",
       "    </tr>\n",
       "    <tr>\n",
       "      <th>3</th>\n",
       "      <td>3</td>\n",
       "      <td>100.0</td>\n",
       "      <td>35-BOOSTER-FD-22-23_S_280.CSV</td>\n",
       "      <td>10.856033</td>\n",
       "      <td>13588.688550</td>\n",
       "      <td>1</td>\n",
       "      <td>107.990311</td>\n",
       "      <td>NaN</td>\n",
       "      <td>35-BOOSTERFD-22-23_S_280.CSV</td>\n",
       "      <td>BOOSTERFD</td>\n",
       "      <td>22-23</td>\n",
       "      <td>22</td>\n",
       "      <td>23</td>\n",
       "    </tr>\n",
       "    <tr>\n",
       "      <th>4</th>\n",
       "      <td>4</td>\n",
       "      <td>100.0</td>\n",
       "      <td>25-PPC-QA-3-4_S_280.CSV</td>\n",
       "      <td>16.447700</td>\n",
       "      <td>9822.871171</td>\n",
       "      <td>1</td>\n",
       "      <td>3.169899</td>\n",
       "      <td>NaN</td>\n",
       "      <td>25-PPCQA-3-4_S_280.CSV</td>\n",
       "      <td>PPCQA</td>\n",
       "      <td>3-4</td>\n",
       "      <td>3</td>\n",
       "      <td>4</td>\n",
       "    </tr>\n",
       "  </tbody>\n",
       "</table>\n",
       "</div>"
      ],
      "text/plain": [
       "   Unnamed: 0  Area %                       filename  Elution Time  \\\n",
       "0           0   100.0        53-IEP2-31-33_S_280.CSV      9.368533   \n",
       "1           1   100.0        52-IEP2-27-28_S_280.CSV     12.972700   \n",
       "2           2   100.0           42-NF-R-21_S_280.CSV     15.612700   \n",
       "3           3   100.0  35-BOOSTER-FD-22-23_S_280.CSV     10.856033   \n",
       "4           4   100.0        25-PPC-QA-3-4_S_280.CSV     16.447700   \n",
       "\n",
       "       Integral  peak nr         kDa  Fraction               processed names  \\\n",
       "0   6958.411718        1  276.069876       NaN       53-IEP2-31-33_S_280.CSV   \n",
       "1  31441.631470        1   28.401014       NaN       52-IEP2-27-28_S_280.CSV   \n",
       "2  27975.980930        1    5.368695       NaN           42-NFR-21_S_280.CSV   \n",
       "3  13588.688550        1  107.990311       NaN  35-BOOSTERFD-22-23_S_280.CSV   \n",
       "4   9822.871171        1    3.169899       NaN        25-PPCQA-3-4_S_280.CSV   \n",
       "\n",
       "  sample_name fraction_part fraction_low fraction_high  \n",
       "0        IEP2         31-33           31            33  \n",
       "1        IEP2         27-28           27            28  \n",
       "2         NFR            21           21            21  \n",
       "3   BOOSTERFD         22-23           22            23  \n",
       "4       PPCQA           3-4            3             4  "
      ]
     },
     "execution_count": 21,
     "metadata": {},
     "output_type": "execute_result"
    }
   ],
   "source": [
    "def parse_fraction_part(x):\n",
    "    if '-' in x:\n",
    "        low, high = x.split('-')\n",
    "        return low, high\n",
    "    return x, x\n",
    "\n",
    "df_filtered['fraction_low'], df_filtered['fraction_high'] = zip(*df_filtered['fraction_part'].map(parse_fraction_part))\n",
    "df_filtered.head()"
   ]
  },
  {
   "cell_type": "code",
   "execution_count": 23,
   "id": "a65a80b1-bbda-49c9-86e0-eb6db9b7114c",
   "metadata": {},
   "outputs": [
    {
     "data": {
      "text/html": [
       "<div>\n",
       "<style scoped>\n",
       "    .dataframe tbody tr th:only-of-type {\n",
       "        vertical-align: middle;\n",
       "    }\n",
       "\n",
       "    .dataframe tbody tr th {\n",
       "        vertical-align: top;\n",
       "    }\n",
       "\n",
       "    .dataframe thead th {\n",
       "        text-align: right;\n",
       "    }\n",
       "</style>\n",
       "<table border=\"1\" class=\"dataframe\">\n",
       "  <thead>\n",
       "    <tr style=\"text-align: right;\">\n",
       "      <th></th>\n",
       "      <th>Area %</th>\n",
       "      <th>kDa</th>\n",
       "      <th>sample_name</th>\n",
       "      <th>fraction_low</th>\n",
       "      <th>fraction_high</th>\n",
       "    </tr>\n",
       "  </thead>\n",
       "  <tbody>\n",
       "    <tr>\n",
       "      <th>0</th>\n",
       "      <td>100.0</td>\n",
       "      <td>276.069876</td>\n",
       "      <td>IEP2</td>\n",
       "      <td>31</td>\n",
       "      <td>33</td>\n",
       "    </tr>\n",
       "    <tr>\n",
       "      <th>1</th>\n",
       "      <td>100.0</td>\n",
       "      <td>28.401014</td>\n",
       "      <td>IEP2</td>\n",
       "      <td>27</td>\n",
       "      <td>28</td>\n",
       "    </tr>\n",
       "    <tr>\n",
       "      <th>2</th>\n",
       "      <td>100.0</td>\n",
       "      <td>5.368695</td>\n",
       "      <td>NFR</td>\n",
       "      <td>21</td>\n",
       "      <td>21</td>\n",
       "    </tr>\n",
       "    <tr>\n",
       "      <th>3</th>\n",
       "      <td>100.0</td>\n",
       "      <td>107.990311</td>\n",
       "      <td>BOOSTERFD</td>\n",
       "      <td>22</td>\n",
       "      <td>23</td>\n",
       "    </tr>\n",
       "    <tr>\n",
       "      <th>4</th>\n",
       "      <td>100.0</td>\n",
       "      <td>3.169899</td>\n",
       "      <td>PPCQA</td>\n",
       "      <td>3</td>\n",
       "      <td>4</td>\n",
       "    </tr>\n",
       "  </tbody>\n",
       "</table>\n",
       "</div>"
      ],
      "text/plain": [
       "   Area %         kDa sample_name  fraction_low fraction_high\n",
       "0   100.0  276.069876        IEP2            31            33\n",
       "1   100.0   28.401014        IEP2            27            28\n",
       "2   100.0    5.368695         NFR            21            21\n",
       "3   100.0  107.990311   BOOSTERFD            22            23\n",
       "4   100.0    3.169899       PPCQA             3             4"
      ]
     },
     "execution_count": 23,
     "metadata": {},
     "output_type": "execute_result"
    }
   ],
   "source": [
    "df_plot = df_filtered[['Area %', 'kDa', 'sample_name', 'fraction_low', 'fraction_high']].copy()\n",
    "df_plot['fraction_low'] = pd.to_numeric(df_plot['fraction_low'], errors='coerce')\n",
    "df_plot.head()"
   ]
  },
  {
   "cell_type": "markdown",
   "id": "a69e4f26-1eca-4a87-bcef-c6e8221c7cc7",
   "metadata": {},
   "source": [
    "# Save cleaned data as csv"
   ]
  },
  {
   "cell_type": "code",
   "execution_count": 28,
   "id": "40e186e9-8ea9-49d9-af1d-84e11d90caba",
   "metadata": {},
   "outputs": [],
   "source": [
    "# Save the cleaned data\n",
    "df_plot.to_csv(\"cleaned_HPLC_data.csv\", index=False)"
   ]
  },
  {
   "cell_type": "markdown",
   "id": "5489a8d0-85f3-4c7a-95c8-f1aab2ebd199",
   "metadata": {},
   "source": [
    "# Create interactive plot 3D"
   ]
  },
  {
   "cell_type": "code",
   "execution_count": 60,
   "id": "37d8f250-c721-4b3d-a826-4a61dc18e4a3",
   "metadata": {},
   "outputs": [],
   "source": [
    "import pandas as pd\n",
    "import plotly.graph_objects as go\n",
    "import plotly.io as pio\n",
    "import plotly.subplots as psub\n",
    "import re"
   ]
  },
  {
   "cell_type": "code",
   "execution_count": 150,
   "id": "09988d21-fb3b-45ac-a9a8-2d8a80af5cb8",
   "metadata": {},
   "outputs": [
    {
     "data": {
      "application/vnd.plotly.v1+json": {
       "config": {
        "plotlyServerURL": "https://plot.ly"
       },
       "data": [
        {
         "marker": {
          "color": [
           100,
           100,
           100,
           100,
           2.8,
           77.71,
           19.49,
           37.96,
           62.04,
           4.37,
           7.65,
           3.58,
           6.16,
           0,
           0,
           0,
           38.68,
           0,
           8.27,
           0,
           0,
           23.56,
           7.72,
           99.26,
           0.74,
           99.57,
           0.43,
           100,
           100
          ],
          "colorscale": [
           [
            0,
            "blue"
           ],
           [
            1,
            "red"
           ]
          ],
          "opacity": 0.6,
          "showscale": false,
          "size": 6
         },
         "mode": "markers",
         "name": "IEP2",
         "scene": "scene",
         "showlegend": false,
         "text": [
          "IEP2",
          "IEP2",
          "IEP2",
          "IEP2",
          "IEP2",
          "IEP2",
          "IEP2",
          "IEP2",
          "IEP2",
          "IEP2",
          "IEP2",
          "IEP2",
          "IEP2",
          "IEP2",
          "IEP2",
          "IEP2",
          "IEP2",
          "IEP2",
          "IEP2",
          "IEP2",
          "IEP2",
          "IEP2",
          "IEP2",
          "IEP2",
          "IEP2",
          "IEP2",
          "IEP2",
          "IEP2",
          "IEP2"
         ],
         "type": "scatter3d",
         "x": [
          "31",
          "27",
          "20",
          "22",
          "27",
          "27",
          "27",
          "31",
          "31",
          "17",
          "17",
          "17",
          "17",
          "17",
          "17",
          "17",
          "17",
          "17",
          "17",
          "17",
          "17",
          "17",
          "17",
          "20",
          "20",
          "22",
          "22",
          "14",
          "16"
         ],
         "y": [
          276.0698758,
          28.40101376,
          108.4592334,
          324.6055243,
          480.7792253,
          27.94180647,
          6.535484653,
          356.8304267,
          6.713121251,
          105.5615249,
          94.62489704,
          100.841145,
          106.1180645,
          94.57515319,
          100.9472521,
          94.5254355,
          7.067161803,
          5.693592712,
          5.956976917,
          7.539353661,
          5.32578769,
          8.721509147,
          4.726554289,
          96.96711241,
          7.02e-05,
          320.0294983,
          3.895517398,
          18.15490321,
          4.330336302
         ],
         "z": [
          100,
          100,
          100,
          100,
          2.8,
          77.71,
          19.49,
          37.96,
          62.04,
          4.37,
          7.65,
          3.58,
          6.16,
          0,
          0,
          0,
          38.68,
          0,
          8.27,
          0,
          0,
          23.56,
          7.72,
          99.26,
          0.74,
          99.57,
          0.43,
          100,
          100
         ]
        },
        {
         "marker": {
          "color": [
           100,
           99.34,
           0.66,
           100,
           66.44,
           33.56,
           5.9,
           94.1,
           100,
           100,
           100,
           36.61,
           63.39,
           100,
           48.45,
           51.55,
           100,
           100,
           100,
           7.37,
           92.63
          ],
          "colorscale": [
           [
            0,
            "blue"
           ],
           [
            1,
            "red"
           ]
          ],
          "opacity": 0.6,
          "showscale": false,
          "size": 6
         },
         "mode": "markers",
         "name": "NFR",
         "scene": "scene2",
         "showlegend": false,
         "text": [
          "NFR",
          "NFR",
          "NFR",
          "NFR",
          "NFR",
          "NFR",
          "NFR",
          "NFR",
          "NFR",
          "NFR",
          "NFR",
          "NFR",
          "NFR",
          "NFR",
          "NFR",
          "NFR",
          "NFR",
          "NFR",
          "NFR",
          "NFR",
          "NFR"
         ],
         "type": "scatter3d",
         "x": [
          "21",
          "24",
          "24",
          "32",
          "22",
          "22",
          "16",
          "16",
          "17",
          "15",
          "21",
          "33",
          "33",
          "24",
          "32",
          "32",
          "16",
          "22",
          "15",
          "17",
          "17"
         ],
         "y": [
          5.368694882,
          96.6108487,
          3.22e-05,
          48.22796343,
          8.527687081,
          96.90390722,
          21.60644191,
          4.623944708,
          5.19851127,
          4.034654304,
          7.290847835,
          57.23111717,
          6.616745219,
          107.7203525,
          48.40580964,
          6.423055936,
          4.257543455,
          2.070468355,
          4.701765722,
          21.61485098,
          5.421860146
         ],
         "z": [
          100,
          99.34,
          0.66,
          100,
          66.44,
          33.56,
          5.9,
          94.1,
          100,
          100,
          100,
          36.61,
          63.39,
          100,
          48.45,
          51.55,
          100,
          100,
          100,
          7.37,
          92.63
         ]
        },
        {
         "marker": {
          "color": [
           100,
           11.34,
           71.05,
           17.61,
           84.27,
           15.73,
           0.1,
           99.9,
           75.41,
           24.59,
           90.96,
           9.04,
           99.08,
           0.92,
           100,
           100,
           100,
           100,
           100
          ],
          "colorscale": [
           [
            0,
            "blue"
           ],
           [
            1,
            "red"
           ]
          ],
          "opacity": 0.6,
          "showscale": false,
          "size": 6
         },
         "mode": "markers",
         "name": "BOOSTERFD",
         "scene": "scene3",
         "showlegend": false,
         "text": [
          "BOOSTERFD",
          "BOOSTERFD",
          "BOOSTERFD",
          "BOOSTERFD",
          "BOOSTERFD",
          "BOOSTERFD",
          "BOOSTERFD",
          "BOOSTERFD",
          "BOOSTERFD",
          "BOOSTERFD",
          "BOOSTERFD",
          "BOOSTERFD",
          "BOOSTERFD",
          "BOOSTERFD",
          "BOOSTERFD",
          "BOOSTERFD",
          "BOOSTERFD",
          "BOOSTERFD",
          "BOOSTERFD"
         ],
         "type": "scatter3d",
         "x": [
          "22",
          "30",
          "30",
          "30",
          "32",
          "32",
          "19",
          "19",
          "33",
          "33",
          "16",
          "16",
          "22",
          "22",
          "30",
          "32",
          "19",
          "16",
          "33"
         ],
         "y": [
          107.9903107,
          495.9913764,
          37.18025002,
          6.198228592,
          79.22767532,
          6.514897692,
          96.37035083,
          7.804615247,
          229.7522276,
          6.579413605,
          19.39849865,
          4.697465809,
          97.36359184,
          5.61e-05,
          38.19082131,
          64.74171079,
          7.650213763,
          18.57007672,
          173.2315185
         ],
         "z": [
          100,
          11.34,
          71.05,
          17.61,
          84.27,
          15.73,
          0.1,
          99.9,
          75.41,
          24.59,
          90.96,
          9.04,
          99.08,
          0.92,
          100,
          100,
          100,
          100,
          100
         ]
        },
        {
         "marker": {
          "color": [
           100,
           26.83,
           35.01,
           9.07,
           6.54,
           22.56,
           15.79,
           0.85,
           65.17,
           18.19,
           59.08,
           40.92,
           2.1,
           97.9,
           100,
           100,
           99.66,
           0.34,
           33,
           50.66,
           16.34,
           100,
           44.53,
           27.31,
           28.15,
           100,
           100,
           1.92,
           98.08,
           99.01,
           0.99,
           100
          ],
          "colorscale": [
           [
            0,
            "blue"
           ],
           [
            1,
            "red"
           ]
          ],
          "opacity": 0.6,
          "showscale": false,
          "size": 6
         },
         "mode": "markers",
         "name": "PPCQA",
         "scene": "scene4",
         "showlegend": false,
         "text": [
          "PPCQA",
          "PPCQA",
          "PPCQA",
          "PPCQA",
          "PPCQA",
          "PPCQA",
          "PPCQA",
          "PPCQA",
          "PPCQA",
          "PPCQA",
          "PPCQA",
          "PPCQA",
          "PPCQA",
          "PPCQA",
          "PPCQA",
          "PPCQA",
          "PPCQA",
          "PPCQA",
          "PPCQA",
          "PPCQA",
          "PPCQA",
          "PPCQA",
          "PPCQA",
          "PPCQA",
          "PPCQA",
          "PPCQA",
          "PPCQA",
          "PPCQA",
          "PPCQA",
          "PPCQA",
          "PPCQA",
          "PPCQA"
         ],
         "type": "scatter3d",
         "x": [
          "3",
          "31",
          "31",
          "31",
          "31",
          "31",
          "30",
          "30",
          "30",
          "30",
          "35",
          "35",
          "15",
          "15",
          "21",
          "18",
          "23",
          "23",
          "3",
          "3",
          "3",
          "30",
          "31",
          "31",
          "31",
          "15",
          "35",
          "18",
          "18",
          "21",
          "21",
          "23"
         ],
         "y": [
          3.169899362,
          1361.078039,
          462.6738325,
          58.95693961,
          138.7034462,
          6.508049793,
          1384.34891,
          135.1923447,
          58.50112825,
          6.413740916,
          1389.643832,
          6.672648941,
          211.5199719,
          19.88911818,
          101.4666585,
          8.107894151,
          327.0452499,
          0.000109292,
          989.1554586,
          3.71350314,
          0.703818225,
          58.74774134,
          58.61690719,
          1409.884653,
          137.0360469,
          20.60231793,
          1387.453397,
          92.18207282,
          7.893350322,
          91.3857377,
          4.8e-05,
          326.3580877
         ],
         "z": [
          100,
          26.83,
          35.01,
          9.07,
          6.54,
          22.56,
          15.79,
          0.85,
          65.17,
          18.19,
          59.08,
          40.92,
          2.1,
          97.9,
          100,
          100,
          99.66,
          0.34,
          33,
          50.66,
          16.34,
          100,
          44.53,
          27.31,
          28.15,
          100,
          100,
          1.92,
          98.08,
          99.01,
          0.99,
          100
         ]
        },
        {
         "marker": {
          "cmax": 100,
          "cmin": 0,
          "color": [
           0,
           100
          ],
          "colorbar": {
           "title": {
            "text": "Area (%)"
           },
           "x": 1.1,
           "y": 0.5
          },
          "colorscale": [
           [
            0,
            "blue"
           ],
           [
            1,
            "red"
           ]
          ],
          "showscale": true,
          "size": 8
         },
         "mode": "markers",
         "showlegend": false,
         "type": "scatter3d",
         "x": [
          null
         ],
         "y": [
          null
         ],
         "z": [
          null
         ]
        }
       ],
       "layout": {
        "annotations": [
         {
          "font": {
           "size": 16
          },
          "showarrow": false,
          "text": "IEP2",
          "x": 0.245,
          "xanchor": "center",
          "xref": "paper",
          "y": 0.97,
          "yanchor": "bottom",
          "yref": "paper"
         },
         {
          "font": {
           "size": 16
          },
          "showarrow": false,
          "text": "NFR",
          "x": 0.755,
          "xanchor": "center",
          "xref": "paper",
          "y": 0.97,
          "yanchor": "bottom",
          "yref": "paper"
         },
         {
          "font": {
           "size": 16
          },
          "showarrow": false,
          "text": "BOOSTERFD",
          "x": 0.245,
          "xanchor": "center",
          "xref": "paper",
          "y": 0.45999999999999996,
          "yanchor": "bottom",
          "yref": "paper"
         },
         {
          "font": {
           "size": 16
          },
          "showarrow": false,
          "text": "PPCQA",
          "x": 0.755,
          "xanchor": "center",
          "xref": "paper",
          "y": 0.45999999999999996,
          "yanchor": "bottom",
          "yref": "paper"
         }
        ],
        "autosize": true,
        "margin": {
         "b": 10,
         "l": 10,
         "r": 10,
         "t": 10
        },
        "scene": {
         "aspectmode": "auto",
         "aspectratio": {
          "x": 1,
          "y": 1,
          "z": 1
         },
         "camera": {
          "center": {
           "x": 0,
           "y": 0,
           "z": 0
          },
          "eye": {
           "x": 0.7021378737578818,
           "y": 1.3168229756402683,
           "z": 0.7335143907870515
          },
          "projection": {
           "type": "perspective"
          },
          "up": {
           "x": 0,
           "y": 0,
           "z": 1
          }
         },
         "domain": {
          "x": [
           0,
           0.49
          ],
          "y": [
           0.51,
           1
          ]
         },
         "xaxis": {
          "title": {
           "font": {
            "size": 10
           },
           "text": "Fraction Number"
          },
          "type": "category"
         },
         "yaxis": {
          "title": {
           "font": {
            "size": 10
           },
           "text": "Molecular Weight (kDa)"
          },
          "type": "linear"
         },
         "zaxis": {
          "title": {
           "font": {
            "size": 10
           },
           "text": "Area (%)"
          },
          "type": "linear"
         }
        },
        "scene2": {
         "aspectmode": "auto",
         "aspectratio": {
          "x": 1,
          "y": 1.041326067502624,
          "z": 0.9603139988594209
         },
         "camera": {
          "center": {
           "x": 0,
           "y": 0,
           "z": 0
          },
          "eye": {
           "x": 1.2521112702286805,
           "y": 1.2521112702286803,
           "z": 1.2521112702286803
          },
          "projection": {
           "type": "perspective"
          },
          "up": {
           "x": 0,
           "y": 0,
           "z": 1
          }
         },
         "domain": {
          "x": [
           0.51,
           1
          ],
          "y": [
           0.51,
           1
          ]
         },
         "xaxis": {
          "title": {
           "font": {
            "size": 10
           },
           "text": "Fraction Number"
          },
          "type": "category"
         },
         "yaxis": {
          "title": {
           "font": {
            "size": 10
           },
           "text": "Molecular Weight (kDa)"
          },
          "type": "linear"
         },
         "zaxis": {
          "title": {
           "font": {
            "size": 10
           },
           "text": "Area (%)"
          },
          "type": "linear"
         }
        },
        "scene3": {
         "aspectmode": "auto",
         "aspectratio": {
          "x": 1,
          "y": 1,
          "z": 1
         },
         "camera": {
          "center": {
           "x": 0,
           "y": 0,
           "z": 0
          },
          "eye": {
           "x": 0.8544608329048189,
           "y": 0.8544608329048188,
           "z": 0.8544608329048188
          },
          "projection": {
           "type": "perspective"
          },
          "up": {
           "x": -0.0012331149531849964,
           "y": 0.0012346374053491863,
           "z": 0.9999984775478359
          }
         },
         "domain": {
          "x": [
           0,
           0.49
          ],
          "y": [
           0,
           0.49
          ]
         },
         "xaxis": {
          "title": {
           "font": {
            "size": 10
           },
           "text": "Fraction Number"
          },
          "type": "category"
         },
         "yaxis": {
          "title": {
           "font": {
            "size": 10
           },
           "text": "Molecular Weight (kDa)"
          },
          "type": "linear"
         },
         "zaxis": {
          "title": {
           "font": {
            "size": 10
           },
           "text": "Area (%)"
          },
          "type": "linear"
         }
        },
        "scene4": {
         "aspectmode": "auto",
         "aspectratio": {
          "x": 1,
          "y": 1,
          "z": 1
         },
         "domain": {
          "x": [
           0.51,
           1
          ],
          "y": [
           0,
           0.49
          ]
         },
         "xaxis": {
          "title": {
           "font": {
            "size": 10
           },
           "text": "Fraction Number"
          },
          "type": "category"
         },
         "yaxis": {
          "title": {
           "font": {
            "size": 10
           },
           "text": "Molecular Weight (kDa)"
          },
          "type": "linear"
         },
         "zaxis": {
          "title": {
           "font": {
            "size": 10
           },
           "text": "Area (%)"
          },
          "type": "linear"
         }
        },
        "showlegend": false,
        "template": {
         "data": {
          "bar": [
           {
            "error_x": {
             "color": "#2a3f5f"
            },
            "error_y": {
             "color": "#2a3f5f"
            },
            "marker": {
             "line": {
              "color": "#E5ECF6",
              "width": 0.5
             },
             "pattern": {
              "fillmode": "overlay",
              "size": 10,
              "solidity": 0.2
             }
            },
            "type": "bar"
           }
          ],
          "barpolar": [
           {
            "marker": {
             "line": {
              "color": "#E5ECF6",
              "width": 0.5
             },
             "pattern": {
              "fillmode": "overlay",
              "size": 10,
              "solidity": 0.2
             }
            },
            "type": "barpolar"
           }
          ],
          "carpet": [
           {
            "aaxis": {
             "endlinecolor": "#2a3f5f",
             "gridcolor": "white",
             "linecolor": "white",
             "minorgridcolor": "white",
             "startlinecolor": "#2a3f5f"
            },
            "baxis": {
             "endlinecolor": "#2a3f5f",
             "gridcolor": "white",
             "linecolor": "white",
             "minorgridcolor": "white",
             "startlinecolor": "#2a3f5f"
            },
            "type": "carpet"
           }
          ],
          "choropleth": [
           {
            "colorbar": {
             "outlinewidth": 0,
             "ticks": ""
            },
            "type": "choropleth"
           }
          ],
          "contour": [
           {
            "colorbar": {
             "outlinewidth": 0,
             "ticks": ""
            },
            "colorscale": [
             [
              0,
              "#0d0887"
             ],
             [
              0.1111111111111111,
              "#46039f"
             ],
             [
              0.2222222222222222,
              "#7201a8"
             ],
             [
              0.3333333333333333,
              "#9c179e"
             ],
             [
              0.4444444444444444,
              "#bd3786"
             ],
             [
              0.5555555555555556,
              "#d8576b"
             ],
             [
              0.6666666666666666,
              "#ed7953"
             ],
             [
              0.7777777777777778,
              "#fb9f3a"
             ],
             [
              0.8888888888888888,
              "#fdca26"
             ],
             [
              1,
              "#f0f921"
             ]
            ],
            "type": "contour"
           }
          ],
          "contourcarpet": [
           {
            "colorbar": {
             "outlinewidth": 0,
             "ticks": ""
            },
            "type": "contourcarpet"
           }
          ],
          "heatmap": [
           {
            "colorbar": {
             "outlinewidth": 0,
             "ticks": ""
            },
            "colorscale": [
             [
              0,
              "#0d0887"
             ],
             [
              0.1111111111111111,
              "#46039f"
             ],
             [
              0.2222222222222222,
              "#7201a8"
             ],
             [
              0.3333333333333333,
              "#9c179e"
             ],
             [
              0.4444444444444444,
              "#bd3786"
             ],
             [
              0.5555555555555556,
              "#d8576b"
             ],
             [
              0.6666666666666666,
              "#ed7953"
             ],
             [
              0.7777777777777778,
              "#fb9f3a"
             ],
             [
              0.8888888888888888,
              "#fdca26"
             ],
             [
              1,
              "#f0f921"
             ]
            ],
            "type": "heatmap"
           }
          ],
          "heatmapgl": [
           {
            "colorbar": {
             "outlinewidth": 0,
             "ticks": ""
            },
            "colorscale": [
             [
              0,
              "#0d0887"
             ],
             [
              0.1111111111111111,
              "#46039f"
             ],
             [
              0.2222222222222222,
              "#7201a8"
             ],
             [
              0.3333333333333333,
              "#9c179e"
             ],
             [
              0.4444444444444444,
              "#bd3786"
             ],
             [
              0.5555555555555556,
              "#d8576b"
             ],
             [
              0.6666666666666666,
              "#ed7953"
             ],
             [
              0.7777777777777778,
              "#fb9f3a"
             ],
             [
              0.8888888888888888,
              "#fdca26"
             ],
             [
              1,
              "#f0f921"
             ]
            ],
            "type": "heatmapgl"
           }
          ],
          "histogram": [
           {
            "marker": {
             "pattern": {
              "fillmode": "overlay",
              "size": 10,
              "solidity": 0.2
             }
            },
            "type": "histogram"
           }
          ],
          "histogram2d": [
           {
            "colorbar": {
             "outlinewidth": 0,
             "ticks": ""
            },
            "colorscale": [
             [
              0,
              "#0d0887"
             ],
             [
              0.1111111111111111,
              "#46039f"
             ],
             [
              0.2222222222222222,
              "#7201a8"
             ],
             [
              0.3333333333333333,
              "#9c179e"
             ],
             [
              0.4444444444444444,
              "#bd3786"
             ],
             [
              0.5555555555555556,
              "#d8576b"
             ],
             [
              0.6666666666666666,
              "#ed7953"
             ],
             [
              0.7777777777777778,
              "#fb9f3a"
             ],
             [
              0.8888888888888888,
              "#fdca26"
             ],
             [
              1,
              "#f0f921"
             ]
            ],
            "type": "histogram2d"
           }
          ],
          "histogram2dcontour": [
           {
            "colorbar": {
             "outlinewidth": 0,
             "ticks": ""
            },
            "colorscale": [
             [
              0,
              "#0d0887"
             ],
             [
              0.1111111111111111,
              "#46039f"
             ],
             [
              0.2222222222222222,
              "#7201a8"
             ],
             [
              0.3333333333333333,
              "#9c179e"
             ],
             [
              0.4444444444444444,
              "#bd3786"
             ],
             [
              0.5555555555555556,
              "#d8576b"
             ],
             [
              0.6666666666666666,
              "#ed7953"
             ],
             [
              0.7777777777777778,
              "#fb9f3a"
             ],
             [
              0.8888888888888888,
              "#fdca26"
             ],
             [
              1,
              "#f0f921"
             ]
            ],
            "type": "histogram2dcontour"
           }
          ],
          "mesh3d": [
           {
            "colorbar": {
             "outlinewidth": 0,
             "ticks": ""
            },
            "type": "mesh3d"
           }
          ],
          "parcoords": [
           {
            "line": {
             "colorbar": {
              "outlinewidth": 0,
              "ticks": ""
             }
            },
            "type": "parcoords"
           }
          ],
          "pie": [
           {
            "automargin": true,
            "type": "pie"
           }
          ],
          "scatter": [
           {
            "fillpattern": {
             "fillmode": "overlay",
             "size": 10,
             "solidity": 0.2
            },
            "type": "scatter"
           }
          ],
          "scatter3d": [
           {
            "line": {
             "colorbar": {
              "outlinewidth": 0,
              "ticks": ""
             }
            },
            "marker": {
             "colorbar": {
              "outlinewidth": 0,
              "ticks": ""
             }
            },
            "type": "scatter3d"
           }
          ],
          "scattercarpet": [
           {
            "marker": {
             "colorbar": {
              "outlinewidth": 0,
              "ticks": ""
             }
            },
            "type": "scattercarpet"
           }
          ],
          "scattergeo": [
           {
            "marker": {
             "colorbar": {
              "outlinewidth": 0,
              "ticks": ""
             }
            },
            "type": "scattergeo"
           }
          ],
          "scattergl": [
           {
            "marker": {
             "colorbar": {
              "outlinewidth": 0,
              "ticks": ""
             }
            },
            "type": "scattergl"
           }
          ],
          "scattermapbox": [
           {
            "marker": {
             "colorbar": {
              "outlinewidth": 0,
              "ticks": ""
             }
            },
            "type": "scattermapbox"
           }
          ],
          "scatterpolar": [
           {
            "marker": {
             "colorbar": {
              "outlinewidth": 0,
              "ticks": ""
             }
            },
            "type": "scatterpolar"
           }
          ],
          "scatterpolargl": [
           {
            "marker": {
             "colorbar": {
              "outlinewidth": 0,
              "ticks": ""
             }
            },
            "type": "scatterpolargl"
           }
          ],
          "scatterternary": [
           {
            "marker": {
             "colorbar": {
              "outlinewidth": 0,
              "ticks": ""
             }
            },
            "type": "scatterternary"
           }
          ],
          "surface": [
           {
            "colorbar": {
             "outlinewidth": 0,
             "ticks": ""
            },
            "colorscale": [
             [
              0,
              "#0d0887"
             ],
             [
              0.1111111111111111,
              "#46039f"
             ],
             [
              0.2222222222222222,
              "#7201a8"
             ],
             [
              0.3333333333333333,
              "#9c179e"
             ],
             [
              0.4444444444444444,
              "#bd3786"
             ],
             [
              0.5555555555555556,
              "#d8576b"
             ],
             [
              0.6666666666666666,
              "#ed7953"
             ],
             [
              0.7777777777777778,
              "#fb9f3a"
             ],
             [
              0.8888888888888888,
              "#fdca26"
             ],
             [
              1,
              "#f0f921"
             ]
            ],
            "type": "surface"
           }
          ],
          "table": [
           {
            "cells": {
             "fill": {
              "color": "#EBF0F8"
             },
             "line": {
              "color": "white"
             }
            },
            "header": {
             "fill": {
              "color": "#C8D4E3"
             },
             "line": {
              "color": "white"
             }
            },
            "type": "table"
           }
          ]
         },
         "layout": {
          "annotationdefaults": {
           "arrowcolor": "#2a3f5f",
           "arrowhead": 0,
           "arrowwidth": 1
          },
          "autotypenumbers": "strict",
          "coloraxis": {
           "colorbar": {
            "outlinewidth": 0,
            "ticks": ""
           }
          },
          "colorscale": {
           "diverging": [
            [
             0,
             "#8e0152"
            ],
            [
             0.1,
             "#c51b7d"
            ],
            [
             0.2,
             "#de77ae"
            ],
            [
             0.3,
             "#f1b6da"
            ],
            [
             0.4,
             "#fde0ef"
            ],
            [
             0.5,
             "#f7f7f7"
            ],
            [
             0.6,
             "#e6f5d0"
            ],
            [
             0.7,
             "#b8e186"
            ],
            [
             0.8,
             "#7fbc41"
            ],
            [
             0.9,
             "#4d9221"
            ],
            [
             1,
             "#276419"
            ]
           ],
           "sequential": [
            [
             0,
             "#0d0887"
            ],
            [
             0.1111111111111111,
             "#46039f"
            ],
            [
             0.2222222222222222,
             "#7201a8"
            ],
            [
             0.3333333333333333,
             "#9c179e"
            ],
            [
             0.4444444444444444,
             "#bd3786"
            ],
            [
             0.5555555555555556,
             "#d8576b"
            ],
            [
             0.6666666666666666,
             "#ed7953"
            ],
            [
             0.7777777777777778,
             "#fb9f3a"
            ],
            [
             0.8888888888888888,
             "#fdca26"
            ],
            [
             1,
             "#f0f921"
            ]
           ],
           "sequentialminus": [
            [
             0,
             "#0d0887"
            ],
            [
             0.1111111111111111,
             "#46039f"
            ],
            [
             0.2222222222222222,
             "#7201a8"
            ],
            [
             0.3333333333333333,
             "#9c179e"
            ],
            [
             0.4444444444444444,
             "#bd3786"
            ],
            [
             0.5555555555555556,
             "#d8576b"
            ],
            [
             0.6666666666666666,
             "#ed7953"
            ],
            [
             0.7777777777777778,
             "#fb9f3a"
            ],
            [
             0.8888888888888888,
             "#fdca26"
            ],
            [
             1,
             "#f0f921"
            ]
           ]
          },
          "colorway": [
           "#636efa",
           "#EF553B",
           "#00cc96",
           "#ab63fa",
           "#FFA15A",
           "#19d3f3",
           "#FF6692",
           "#B6E880",
           "#FF97FF",
           "#FECB52"
          ],
          "font": {
           "color": "#2a3f5f"
          },
          "geo": {
           "bgcolor": "white",
           "lakecolor": "white",
           "landcolor": "#E5ECF6",
           "showlakes": true,
           "showland": true,
           "subunitcolor": "white"
          },
          "hoverlabel": {
           "align": "left"
          },
          "hovermode": "closest",
          "mapbox": {
           "style": "light"
          },
          "paper_bgcolor": "white",
          "plot_bgcolor": "#E5ECF6",
          "polar": {
           "angularaxis": {
            "gridcolor": "white",
            "linecolor": "white",
            "ticks": ""
           },
           "bgcolor": "#E5ECF6",
           "radialaxis": {
            "gridcolor": "white",
            "linecolor": "white",
            "ticks": ""
           }
          },
          "scene": {
           "xaxis": {
            "backgroundcolor": "#E5ECF6",
            "gridcolor": "white",
            "gridwidth": 2,
            "linecolor": "white",
            "showbackground": true,
            "ticks": "",
            "zerolinecolor": "white"
           },
           "yaxis": {
            "backgroundcolor": "#E5ECF6",
            "gridcolor": "white",
            "gridwidth": 2,
            "linecolor": "white",
            "showbackground": true,
            "ticks": "",
            "zerolinecolor": "white"
           },
           "zaxis": {
            "backgroundcolor": "#E5ECF6",
            "gridcolor": "white",
            "gridwidth": 2,
            "linecolor": "white",
            "showbackground": true,
            "ticks": "",
            "zerolinecolor": "white"
           }
          },
          "shapedefaults": {
           "line": {
            "color": "#2a3f5f"
           }
          },
          "ternary": {
           "aaxis": {
            "gridcolor": "white",
            "linecolor": "white",
            "ticks": ""
           },
           "baxis": {
            "gridcolor": "white",
            "linecolor": "white",
            "ticks": ""
           },
           "bgcolor": "#E5ECF6",
           "caxis": {
            "gridcolor": "white",
            "linecolor": "white",
            "ticks": ""
           }
          },
          "title": {
           "x": 0.05
          },
          "xaxis": {
           "automargin": true,
           "gridcolor": "white",
           "linecolor": "white",
           "ticks": "",
           "title": {
            "standoff": 15
           },
           "zerolinecolor": "white",
           "zerolinewidth": 2
          },
          "yaxis": {
           "automargin": true,
           "gridcolor": "white",
           "linecolor": "white",
           "ticks": "",
           "title": {
            "standoff": 15
           },
           "zerolinecolor": "white",
           "zerolinewidth": 2
          }
         }
        },
        "title": {
         "text": ""
        }
       }
      },
      "image/png": "[encoded data removed]",
      "text/html": [
       "<div>                            <div id=\"80da6fb9-2763-4c1c-88b1-553f69cfeeff\" class=\"plotly-graph-div\" style=\"height:525px; width:100%;\"></div>            <script type=\"text/javascript\">                require([\"plotly\"], function(Plotly) {                    window.PLOTLYENV=window.PLOTLYENV || {};                                    if (document.getElementById(\"80da6fb9-2763-4c1c-88b1-553f69cfeeff\")) {                    Plotly.newPlot(                        \"80da6fb9-2763-4c1c-88b1-553f69cfeeff\",                        [{\"marker\":{\"color\":[100.0,100.0,100.0,100.0,2.8,77.71,19.49,37.96,62.04,4.37,7.65,3.58,6.16,0.0,0.0,0.0,38.68,0.0,8.27,0.0,0.0,23.56,7.72,99.26,0.74,99.57,0.43,100.0,100.0],\"colorscale\":[[0,\"blue\"],[1,\"red\"]],\"opacity\":0.6,\"showscale\":false,\"size\":6},\"mode\":\"markers\",\"name\":\"IEP2\",\"showlegend\":false,\"text\":[\"IEP2\",\"IEP2\",\"IEP2\",\"IEP2\",\"IEP2\",\"IEP2\",\"IEP2\",\"IEP2\",\"IEP2\",\"IEP2\",\"IEP2\",\"IEP2\",\"IEP2\",\"IEP2\",\"IEP2\",\"IEP2\",\"IEP2\",\"IEP2\",\"IEP2\",\"IEP2\",\"IEP2\",\"IEP2\",\"IEP2\",\"IEP2\",\"IEP2\",\"IEP2\",\"IEP2\",\"IEP2\",\"IEP2\"],\"x\":[\"31\",\"27\",\"20\",\"22\",\"27\",\"27\",\"27\",\"31\",\"31\",\"17\",\"17\",\"17\",\"17\",\"17\",\"17\",\"17\",\"17\",\"17\",\"17\",\"17\",\"17\",\"17\",\"17\",\"20\",\"20\",\"22\",\"22\",\"14\",\"16\"],\"y\":[276.0698758,28.40101376,108.4592334,324.6055243,480.7792253,27.94180647,6.535484653,356.8304267,6.713121251,105.5615249,94.62489704,100.841145,106.1180645,94.57515319,100.9472521,94.5254355,7.067161803,5.693592712,5.956976917,7.539353661,5.32578769,8.721509147,4.726554289,96.96711241,7.02e-05,320.0294983,3.895517398,18.15490321,4.330336302],\"z\":[100.0,100.0,100.0,100.0,2.8,77.71,19.49,37.96,62.04,4.37,7.65,3.58,6.16,0.0,0.0,0.0,38.68,0.0,8.27,0.0,0.0,23.56,7.72,99.26,0.74,99.57,0.43,100.0,100.0],\"type\":\"scatter3d\",\"scene\":\"scene\"},{\"marker\":{\"color\":[100.0,99.34,0.66,100.0,66.44,33.56,5.9,94.1,100.0,100.0,100.0,36.61,63.39,100.0,48.45,51.55,100.0,100.0,100.0,7.37,92.63],\"colorscale\":[[0,\"blue\"],[1,\"red\"]],\"opacity\":0.6,\"showscale\":false,\"size\":6},\"mode\":\"markers\",\"name\":\"NFR\",\"showlegend\":false,\"text\":[\"NFR\",\"NFR\",\"NFR\",\"NFR\",\"NFR\",\"NFR\",\"NFR\",\"NFR\",\"NFR\",\"NFR\",\"NFR\",\"NFR\",\"NFR\",\"NFR\",\"NFR\",\"NFR\",\"NFR\",\"NFR\",\"NFR\",\"NFR\",\"NFR\"],\"x\":[\"21\",\"24\",\"24\",\"32\",\"22\",\"22\",\"16\",\"16\",\"17\",\"15\",\"21\",\"33\",\"33\",\"24\",\"32\",\"32\",\"16\",\"22\",\"15\",\"17\",\"17\"],\"y\":[5.368694882,96.6108487,3.22e-05,48.22796343,8.527687081,96.90390722,21.60644191,4.623944708,5.19851127,4.034654304,7.290847835,57.23111717,6.616745219,107.7203525,48.40580964,6.423055936,4.257543455,2.070468355,4.701765722,21.61485098,5.421860146],\"z\":[100.0,99.34,0.66,100.0,66.44,33.56,5.9,94.1,100.0,100.0,100.0,36.61,63.39,100.0,48.45,51.55,100.0,100.0,100.0,7.37,92.63],\"type\":\"scatter3d\",\"scene\":\"scene2\"},{\"marker\":{\"color\":[100.0,11.34,71.05,17.61,84.27,15.73,0.1,99.9,75.41,24.59,90.96,9.04,99.08,0.92,100.0,100.0,100.0,100.0,100.0],\"colorscale\":[[0,\"blue\"],[1,\"red\"]],\"opacity\":0.6,\"showscale\":false,\"size\":6},\"mode\":\"markers\",\"name\":\"BOOSTERFD\",\"showlegend\":false,\"text\":[\"BOOSTERFD\",\"BOOSTERFD\",\"BOOSTERFD\",\"BOOSTERFD\",\"BOOSTERFD\",\"BOOSTERFD\",\"BOOSTERFD\",\"BOOSTERFD\",\"BOOSTERFD\",\"BOOSTERFD\",\"BOOSTERFD\",\"BOOSTERFD\",\"BOOSTERFD\",\"BOOSTERFD\",\"BOOSTERFD\",\"BOOSTERFD\",\"BOOSTERFD\",\"BOOSTERFD\",\"BOOSTERFD\"],\"x\":[\"22\",\"30\",\"30\",\"30\",\"32\",\"32\",\"19\",\"19\",\"33\",\"33\",\"16\",\"16\",\"22\",\"22\",\"30\",\"32\",\"19\",\"16\",\"33\"],\"y\":[107.9903107,495.9913764,37.18025002,6.198228592,79.22767532,6.514897692,96.37035083,7.804615247,229.7522276,6.579413605,19.39849865,4.697465809,97.36359184,5.61e-05,38.19082131,64.74171079,7.650213763,18.57007672,173.2315185],\"z\":[100.0,11.34,71.05,17.61,84.27,15.73,0.1,99.9,75.41,24.59,90.96,9.04,99.08,0.92,100.0,100.0,100.0,100.0,100.0],\"type\":\"scatter3d\",\"scene\":\"scene3\"},{\"marker\":{\"color\":[100.0,26.83,35.01,9.07,6.54,22.56,15.79,0.85,65.17,18.19,59.08,40.92,2.1,97.9,100.0,100.0,99.66,0.34,33.0,50.66,16.34,100.0,44.53,27.31,28.15,100.0,100.0,1.92,98.08,99.01,0.99,100.0],\"colorscale\":[[0,\"blue\"],[1,\"red\"]],\"opacity\":0.6,\"showscale\":false,\"size\":6},\"mode\":\"markers\",\"name\":\"PPCQA\",\"showlegend\":false,\"text\":[\"PPCQA\",\"PPCQA\",\"PPCQA\",\"PPCQA\",\"PPCQA\",\"PPCQA\",\"PPCQA\",\"PPCQA\",\"PPCQA\",\"PPCQA\",\"PPCQA\",\"PPCQA\",\"PPCQA\",\"PPCQA\",\"PPCQA\",\"PPCQA\",\"PPCQA\",\"PPCQA\",\"PPCQA\",\"PPCQA\",\"PPCQA\",\"PPCQA\",\"PPCQA\",\"PPCQA\",\"PPCQA\",\"PPCQA\",\"PPCQA\",\"PPCQA\",\"PPCQA\",\"PPCQA\",\"PPCQA\",\"PPCQA\"],\"x\":[\"3\",\"31\",\"31\",\"31\",\"31\",\"31\",\"30\",\"30\",\"30\",\"30\",\"35\",\"35\",\"15\",\"15\",\"21\",\"18\",\"23\",\"23\",\"3\",\"3\",\"3\",\"30\",\"31\",\"31\",\"31\",\"15\",\"35\",\"18\",\"18\",\"21\",\"21\",\"23\"],\"y\":[3.169899362,1361.078039,462.6738325,58.95693961,138.7034462,6.508049793,1384.34891,135.1923447,58.50112825,6.413740916,1389.643832,6.672648941,211.5199719,19.88911818,101.4666585,8.107894151,327.0452499,0.000109292,989.1554586,3.71350314,0.703818225,58.74774134,58.61690719,1409.884653,137.0360469,20.60231793,1387.453397,92.18207282,7.893350322,91.3857377,4.8e-05,326.3580877],\"z\":[100.0,26.83,35.01,9.07,6.54,22.56,15.79,0.85,65.17,18.19,59.08,40.92,2.1,97.9,100.0,100.0,99.66,0.34,33.0,50.66,16.34,100.0,44.53,27.31,28.15,100.0,100.0,1.92,98.08,99.01,0.99,100.0],\"type\":\"scatter3d\",\"scene\":\"scene4\"},{\"marker\":{\"cmax\":100.0,\"cmin\":0.0,\"color\":[0.0,100.0],\"colorbar\":{\"title\":{\"text\":\"Area (%)\"},\"x\":1.1},\"colorscale\":[[0,\"blue\"],[1,\"red\"]],\"showscale\":true,\"size\":8},\"mode\":\"markers\",\"showlegend\":false,\"x\":[null],\"y\":[null],\"z\":[null],\"type\":\"scatter3d\"}],                        {\"template\":{\"data\":{\"histogram2dcontour\":[{\"type\":\"histogram2dcontour\",\"colorbar\":{\"outlinewidth\":0,\"ticks\":\"\"},\"colorscale\":[[0.0,\"#0d0887\"],[0.1111111111111111,\"#46039f\"],[0.2222222222222222,\"#7201a8\"],[0.3333333333333333,\"#9c179e\"],[0.4444444444444444,\"#bd3786\"],[0.5555555555555556,\"#d8576b\"],[0.6666666666666666,\"#ed7953\"],[0.7777777777777778,\"#fb9f3a\"],[0.8888888888888888,\"#fdca26\"],[1.0,\"#f0f921\"]]}],\"choropleth\":[{\"type\":\"choropleth\",\"colorbar\":{\"outlinewidth\":0,\"ticks\":\"\"}}],\"histogram2d\":[{\"type\":\"histogram2d\",\"colorbar\":{\"outlinewidth\":0,\"ticks\":\"\"},\"colorscale\":[[0.0,\"#0d0887\"],[0.1111111111111111,\"#46039f\"],[0.2222222222222222,\"#7201a8\"],[0.3333333333333333,\"#9c179e\"],[0.4444444444444444,\"#bd3786\"],[0.5555555555555556,\"#d8576b\"],[0.6666666666666666,\"#ed7953\"],[0.7777777777777778,\"#fb9f3a\"],[0.8888888888888888,\"#fdca26\"],[1.0,\"#f0f921\"]]}],\"heatmap\":[{\"type\":\"heatmap\",\"colorbar\":{\"outlinewidth\":0,\"ticks\":\"\"},\"colorscale\":[[0.0,\"#0d0887\"],[0.1111111111111111,\"#46039f\"],[0.2222222222222222,\"#7201a8\"],[0.3333333333333333,\"#9c179e\"],[0.4444444444444444,\"#bd3786\"],[0.5555555555555556,\"#d8576b\"],[0.6666666666666666,\"#ed7953\"],[0.7777777777777778,\"#fb9f3a\"],[0.8888888888888888,\"#fdca26\"],[1.0,\"#f0f921\"]]}],\"heatmapgl\":[{\"type\":\"heatmapgl\",\"colorbar\":{\"outlinewidth\":0,\"ticks\":\"\"},\"colorscale\":[[0.0,\"#0d0887\"],[0.1111111111111111,\"#46039f\"],[0.2222222222222222,\"#7201a8\"],[0.3333333333333333,\"#9c179e\"],[0.4444444444444444,\"#bd3786\"],[0.5555555555555556,\"#d8576b\"],[0.6666666666666666,\"#ed7953\"],[0.7777777777777778,\"#fb9f3a\"],[0.8888888888888888,\"#fdca26\"],[1.0,\"#f0f921\"]]}],\"contourcarpet\":[{\"type\":\"contourcarpet\",\"colorbar\":{\"outlinewidth\":0,\"ticks\":\"\"}}],\"contour\":[{\"type\":\"contour\",\"colorbar\":{\"outlinewidth\":0,\"ticks\":\"\"},\"colorscale\":[[0.0,\"#0d0887\"],[0.1111111111111111,\"#46039f\"],[0.2222222222222222,\"#7201a8\"],[0.3333333333333333,\"#9c179e\"],[0.4444444444444444,\"#bd3786\"],[0.5555555555555556,\"#d8576b\"],[0.6666666666666666,\"#ed7953\"],[0.7777777777777778,\"#fb9f3a\"],[0.8888888888888888,\"#fdca26\"],[1.0,\"#f0f921\"]]}],\"surface\":[{\"type\":\"surface\",\"colorbar\":{\"outlinewidth\":0,\"ticks\":\"\"},\"colorscale\":[[0.0,\"#0d0887\"],[0.1111111111111111,\"#46039f\"],[0.2222222222222222,\"#7201a8\"],[0.3333333333333333,\"#9c179e\"],[0.4444444444444444,\"#bd3786\"],[0.5555555555555556,\"#d8576b\"],[0.6666666666666666,\"#ed7953\"],[0.7777777777777778,\"#fb9f3a\"],[0.8888888888888888,\"#fdca26\"],[1.0,\"#f0f921\"]]}],\"mesh3d\":[{\"type\":\"mesh3d\",\"colorbar\":{\"outlinewidth\":0,\"ticks\":\"\"}}],\"scatter\":[{\"fillpattern\":{\"fillmode\":\"overlay\",\"size\":10,\"solidity\":0.2},\"type\":\"scatter\"}],\"parcoords\":[{\"type\":\"parcoords\",\"line\":{\"colorbar\":{\"outlinewidth\":0,\"ticks\":\"\"}}}],\"scatterpolargl\":[{\"type\":\"scatterpolargl\",\"marker\":{\"colorbar\":{\"outlinewidth\":0,\"ticks\":\"\"}}}],\"bar\":[{\"error_x\":{\"color\":\"#2a3f5f\"},\"error_y\":{\"color\":\"#2a3f5f\"},\"marker\":{\"line\":{\"color\":\"#E5ECF6\",\"width\":0.5},\"pattern\":{\"fillmode\":\"overlay\",\"size\":10,\"solidity\":0.2}},\"type\":\"bar\"}],\"scattergeo\":[{\"type\":\"scattergeo\",\"marker\":{\"colorbar\":{\"outlinewidth\":0,\"ticks\":\"\"}}}],\"scatterpolar\":[{\"type\":\"scatterpolar\",\"marker\":{\"colorbar\":{\"outlinewidth\":0,\"ticks\":\"\"}}}],\"histogram\":[{\"marker\":{\"pattern\":{\"fillmode\":\"overlay\",\"size\":10,\"solidity\":0.2}},\"type\":\"histogram\"}],\"scattergl\":[{\"type\":\"scattergl\",\"marker\":{\"colorbar\":{\"outlinewidth\":0,\"ticks\":\"\"}}}],\"scatter3d\":[{\"type\":\"scatter3d\",\"line\":{\"colorbar\":{\"outlinewidth\":0,\"ticks\":\"\"}},\"marker\":{\"colorbar\":{\"outlinewidth\":0,\"ticks\":\"\"}}}],\"scattermapbox\":[{\"type\":\"scattermapbox\",\"marker\":{\"colorbar\":{\"outlinewidth\":0,\"ticks\":\"\"}}}],\"scatterternary\":[{\"type\":\"scatterternary\",\"marker\":{\"colorbar\":{\"outlinewidth\":0,\"ticks\":\"\"}}}],\"scattercarpet\":[{\"type\":\"scattercarpet\",\"marker\":{\"colorbar\":{\"outlinewidth\":0,\"ticks\":\"\"}}}],\"carpet\":[{\"aaxis\":{\"endlinecolor\":\"#2a3f5f\",\"gridcolor\":\"white\",\"linecolor\":\"white\",\"minorgridcolor\":\"white\",\"startlinecolor\":\"#2a3f5f\"},\"baxis\":{\"endlinecolor\":\"#2a3f5f\",\"gridcolor\":\"white\",\"linecolor\":\"white\",\"minorgridcolor\":\"white\",\"startlinecolor\":\"#2a3f5f\"},\"type\":\"carpet\"}],\"table\":[{\"cells\":{\"fill\":{\"color\":\"#EBF0F8\"},\"line\":{\"color\":\"white\"}},\"header\":{\"fill\":{\"color\":\"#C8D4E3\"},\"line\":{\"color\":\"white\"}},\"type\":\"table\"}],\"barpolar\":[{\"marker\":{\"line\":{\"color\":\"#E5ECF6\",\"width\":0.5},\"pattern\":{\"fillmode\":\"overlay\",\"size\":10,\"solidity\":0.2}},\"type\":\"barpolar\"}],\"pie\":[{\"automargin\":true,\"type\":\"pie\"}]},\"layout\":{\"autotypenumbers\":\"strict\",\"colorway\":[\"#636efa\",\"#EF553B\",\"#00cc96\",\"#ab63fa\",\"#FFA15A\",\"#19d3f3\",\"#FF6692\",\"#B6E880\",\"#FF97FF\",\"#FECB52\"],\"font\":{\"color\":\"#2a3f5f\"},\"hovermode\":\"closest\",\"hoverlabel\":{\"align\":\"left\"},\"paper_bgcolor\":\"white\",\"plot_bgcolor\":\"#E5ECF6\",\"polar\":{\"bgcolor\":\"#E5ECF6\",\"angularaxis\":{\"gridcolor\":\"white\",\"linecolor\":\"white\",\"ticks\":\"\"},\"radialaxis\":{\"gridcolor\":\"white\",\"linecolor\":\"white\",\"ticks\":\"\"}},\"ternary\":{\"bgcolor\":\"#E5ECF6\",\"aaxis\":{\"gridcolor\":\"white\",\"linecolor\":\"white\",\"ticks\":\"\"},\"baxis\":{\"gridcolor\":\"white\",\"linecolor\":\"white\",\"ticks\":\"\"},\"caxis\":{\"gridcolor\":\"white\",\"linecolor\":\"white\",\"ticks\":\"\"}},\"coloraxis\":{\"colorbar\":{\"outlinewidth\":0,\"ticks\":\"\"}},\"colorscale\":{\"sequential\":[[0.0,\"#0d0887\"],[0.1111111111111111,\"#46039f\"],[0.2222222222222222,\"#7201a8\"],[0.3333333333333333,\"#9c179e\"],[0.4444444444444444,\"#bd3786\"],[0.5555555555555556,\"#d8576b\"],[0.6666666666666666,\"#ed7953\"],[0.7777777777777778,\"#fb9f3a\"],[0.8888888888888888,\"#fdca26\"],[1.0,\"#f0f921\"]],\"sequentialminus\":[[0.0,\"#0d0887\"],[0.1111111111111111,\"#46039f\"],[0.2222222222222222,\"#7201a8\"],[0.3333333333333333,\"#9c179e\"],[0.4444444444444444,\"#bd3786\"],[0.5555555555555556,\"#d8576b\"],[0.6666666666666666,\"#ed7953\"],[0.7777777777777778,\"#fb9f3a\"],[0.8888888888888888,\"#fdca26\"],[1.0,\"#f0f921\"]],\"diverging\":[[0,\"#8e0152\"],[0.1,\"#c51b7d\"],[0.2,\"#de77ae\"],[0.3,\"#f1b6da\"],[0.4,\"#fde0ef\"],[0.5,\"#f7f7f7\"],[0.6,\"#e6f5d0\"],[0.7,\"#b8e186\"],[0.8,\"#7fbc41\"],[0.9,\"#4d9221\"],[1,\"#276419\"]]},\"xaxis\":{\"gridcolor\":\"white\",\"linecolor\":\"white\",\"ticks\":\"\",\"title\":{\"standoff\":15},\"zerolinecolor\":\"white\",\"automargin\":true,\"zerolinewidth\":2},\"yaxis\":{\"gridcolor\":\"white\",\"linecolor\":\"white\",\"ticks\":\"\",\"title\":{\"standoff\":15},\"zerolinecolor\":\"white\",\"automargin\":true,\"zerolinewidth\":2},\"scene\":{\"xaxis\":{\"backgroundcolor\":\"#E5ECF6\",\"gridcolor\":\"white\",\"linecolor\":\"white\",\"showbackground\":true,\"ticks\":\"\",\"zerolinecolor\":\"white\",\"gridwidth\":2},\"yaxis\":{\"backgroundcolor\":\"#E5ECF6\",\"gridcolor\":\"white\",\"linecolor\":\"white\",\"showbackground\":true,\"ticks\":\"\",\"zerolinecolor\":\"white\",\"gridwidth\":2},\"zaxis\":{\"backgroundcolor\":\"#E5ECF6\",\"gridcolor\":\"white\",\"linecolor\":\"white\",\"showbackground\":true,\"ticks\":\"\",\"zerolinecolor\":\"white\",\"gridwidth\":2}},\"shapedefaults\":{\"line\":{\"color\":\"#2a3f5f\"}},\"annotationdefaults\":{\"arrowcolor\":\"#2a3f5f\",\"arrowhead\":0,\"arrowwidth\":1},\"geo\":{\"bgcolor\":\"white\",\"landcolor\":\"#E5ECF6\",\"subunitcolor\":\"white\",\"showland\":true,\"showlakes\":true,\"lakecolor\":\"white\"},\"title\":{\"x\":0.05},\"mapbox\":{\"style\":\"light\"}}},\"scene\":{\"domain\":{\"x\":[0.0,0.49],\"y\":[0.51,1.0]},\"xaxis\":{\"title\":{\"text\":\"Fraction Number\",\"font\":{\"size\":10}}},\"yaxis\":{\"title\":{\"text\":\"Molecular Weight (kDa)\",\"font\":{\"size\":10}}},\"zaxis\":{\"title\":{\"text\":\"Area (%)\",\"font\":{\"size\":10}}}},\"scene2\":{\"domain\":{\"x\":[0.51,1.0],\"y\":[0.51,1.0]},\"xaxis\":{\"title\":{\"text\":\"Fraction Number\",\"font\":{\"size\":10}}},\"yaxis\":{\"title\":{\"text\":\"Molecular Weight (kDa)\",\"font\":{\"size\":10}}},\"zaxis\":{\"title\":{\"text\":\"Area (%)\",\"font\":{\"size\":10}}}},\"scene3\":{\"domain\":{\"x\":[0.0,0.49],\"y\":[0.0,0.49]},\"xaxis\":{\"title\":{\"text\":\"Fraction Number\",\"font\":{\"size\":10}}},\"yaxis\":{\"title\":{\"text\":\"Molecular Weight (kDa)\",\"font\":{\"size\":10}}},\"zaxis\":{\"title\":{\"text\":\"Area (%)\",\"font\":{\"size\":10}}}},\"scene4\":{\"domain\":{\"x\":[0.51,1.0],\"y\":[0.0,0.49]},\"xaxis\":{\"title\":{\"text\":\"Fraction Number\",\"font\":{\"size\":10}}},\"yaxis\":{\"title\":{\"text\":\"Molecular Weight (kDa)\",\"font\":{\"size\":10}}},\"zaxis\":{\"title\":{\"text\":\"Area (%)\",\"font\":{\"size\":10}}}},\"annotations\":[{\"font\":{\"size\":16},\"showarrow\":false,\"text\":\"IEP2\",\"x\":0.245,\"xanchor\":\"center\",\"xref\":\"paper\",\"y\":0.97,\"yanchor\":\"bottom\",\"yref\":\"paper\"},{\"font\":{\"size\":16},\"showarrow\":false,\"text\":\"NFR\",\"x\":0.755,\"xanchor\":\"center\",\"xref\":\"paper\",\"y\":0.97,\"yanchor\":\"bottom\",\"yref\":\"paper\"},{\"font\":{\"size\":16},\"showarrow\":false,\"text\":\"BOOSTERFD\",\"x\":0.245,\"xanchor\":\"center\",\"xref\":\"paper\",\"y\":0.45999999999999996,\"yanchor\":\"bottom\",\"yref\":\"paper\"},{\"font\":{\"size\":16},\"showarrow\":false,\"text\":\"PPCQA\",\"x\":0.755,\"xanchor\":\"center\",\"xref\":\"paper\",\"y\":0.45999999999999996,\"yanchor\":\"bottom\",\"yref\":\"paper\"}],\"margin\":{\"l\":10,\"r\":10,\"t\":10,\"b\":10},\"title\":{\"text\":\"\"},\"showlegend\":false},                        {\"responsive\": true}                    ).then(function(){\n",
       "                            \n",
       "var gd = document.getElementById('80da6fb9-2763-4c1c-88b1-553f69cfeeff');\n",
       "var x = new MutationObserver(function (mutations, observer) {{\n",
       "        var display = window.getComputedStyle(gd).display;\n",
       "        if (!display || display === 'none') {{\n",
       "            console.log([gd, 'removed!']);\n",
       "            Plotly.purge(gd);\n",
       "            observer.disconnect();\n",
       "        }}\n",
       "}});\n",
       "\n",
       "// Listen for the removal of the full notebook cells\n",
       "var notebookContainer = gd.closest('#notebook-container');\n",
       "if (notebookContainer) {{\n",
       "    x.observe(notebookContainer, {childList: true});\n",
       "}}\n",
       "\n",
       "// Listen for the clearing of the current output cell\n",
       "var outputEl = gd.closest('.output');\n",
       "if (outputEl) {{\n",
       "    x.observe(outputEl, {childList: true});\n",
       "}}\n",
       "\n",
       "                        })                };                });            </script>        </div>"
      ]
     },
     "metadata": {},
     "output_type": "display_data"
    }
   ],
   "source": [
    "# Generate a 2x2 grid of 3D plots\n",
    "sample_names = df_plot['sample_name'].unique()\n",
    "fig = psub.make_subplots(rows=2, cols=2, specs=[[{'type': 'scatter3d'}, {'type': 'scatter3d'}], [{'type': 'scatter3d'}, {'type': 'scatter3d'}]],\n",
    "                         subplot_titles=sample_names, horizontal_spacing=0.02, vertical_spacing=0.02)\n",
    "\n",
    "\n",
    "# Manually adjust annotation y-positions to move titles lower\n",
    "for annotation in fig['layout']['annotations']:\n",
    "    annotation['y'] -= 0.03\n",
    "\n",
    "positions = [(1, 1), (1, 2), (2, 1), (2, 2)]\n",
    "scenes = {}\n",
    "traces = []\n",
    "\n",
    "for i, (sample, (row, col)) in enumerate(zip(sample_names, positions)):\n",
    "    df_sample = df_filtered[df_filtered['sample_name'] == sample]\n",
    "    scatter3d = go.Scatter3d(\n",
    "        x=df_sample['fraction_low'],\n",
    "        y=df_sample['kDa'],\n",
    "        z=df_sample['Area %'],\n",
    "        mode='markers',\n",
    "        marker=dict(\n",
    "            size=6,\n",
    "            color=df_sample['Area %'],  # Color by Area %\n",
    "            colorscale=[(0, 'blue'), (1, 'red')],\n",
    "            opacity=0.6,\n",
    "            showscale=False  # Disable multiple colorbars\n",
    "        ),\n",
    "        name=sample,\n",
    "        text=df_sample['sample_name'],\n",
    "        showlegend=False  # Remove legend entries\n",
    "    )\n",
    "    fig.add_trace(scatter3d, row=row, col=col)\n",
    "    scenes[f'scene{i+1}'] = dict(\n",
    "        xaxis=dict(title='Fraction Number', titlefont=dict(size=10)),\n",
    "        yaxis=dict(title='Molecular Weight (kDa)', titlefont=dict(size=10)),\n",
    "        zaxis=dict(title='Area (%)', titlefont=dict(size=10))\n",
    "    )\n",
    "\n",
    "# Add a single color bar with correct scale\n",
    "fig.add_trace(go.Scatter3d(\n",
    "    x=[None], y=[None], z=[None],\n",
    "    mode='markers',\n",
    "    marker=dict(\n",
    "        size=8,\n",
    "        color=[df_filtered['Area %'].min(), df_filtered['Area %'].max()],\n",
    "        colorscale=[(0, 'blue'), (1, 'red')],\n",
    "        cmin=df_filtered['Area %'].min(),\n",
    "        cmax=df_filtered['Area %'].max(),\n",
    "        showscale=True,\n",
    "        colorbar=dict(title='Area (%)', x=1.1)\n",
    "    ),\n",
    "    showlegend=False  # Ensure this does not appear in the legend\n",
    "))\n",
    "\n",
    "# Layout configuration\n",
    "fig.update_layout(\n",
    "    title='',\n",
    "    margin=dict(l=10, r=10, t=10, b=10),\n",
    "    showlegend=False,\n",
    "    **scenes\n",
    ")\n",
    "\n",
    "\n"
   ]
  },
  {
   "cell_type": "code",
   "execution_count": 154,
   "id": "30298336-47c5-4335-b275-414b4cfec03c",
   "metadata": {},
   "outputs": [
    {
     "name": "stdout",
     "output_type": "stream",
     "text": [
      "Filtered data saved as cleaned_HPLC_data.csv\n",
      "Interactive visualization saved as interactive_chromatography.html. Open it in a browser to explore!\n"
     ]
    }
   ],
   "source": [
    "# Save as interactive HTML file\n",
    "html_file = \"interactive_chromatography.html\"\n",
    "pio.write_html(fig, html_file)\n",
    "\n",
    "print(f\"Filtered data saved as cleaned_HPLC_data.csv\")\n",
    "print(f\"Interactive visualization saved as {html_file}. Open it in a browser to explore!\")"
   ]
  },
  {
   "cell_type": "code",
   "execution_count": null,
   "id": "905d3507-e24a-493c-b674-b1f4ee40198a",
   "metadata": {},
   "outputs": [],
   "source": []
  }
 ],
 "metadata": {
  "kernelspec": {
   "display_name": "Python 3 (ipykernel)",
   "language": "python",
   "name": "python3"
  },
  "language_info": {
   "codemirror_mode": {
    "name": "ipython",
    "version": 3
   },
   "file_extension": ".py",
   "mimetype": "text/x-python",
   "name": "python",
   "nbconvert_exporter": "python",
   "pygments_lexer": "ipython3",
   "version": "3.12.4"
  }
 },
 "nbformat": 4,
 "nbformat_minor": 5
}
